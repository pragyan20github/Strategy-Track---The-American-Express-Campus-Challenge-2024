{
  "nbformat": 4,
  "nbformat_minor": 0,
  "metadata": {
    "colab": {
      "provenance": []
    },
    "kernelspec": {
      "name": "python3",
      "display_name": "Python 3"
    },
    "language_info": {
      "name": "python"
    }
  },
  "cells": [
    {
      "cell_type": "code",
      "execution_count": null,
      "metadata": {
        "id": "GAZOhHnFImNW"
      },
      "outputs": [],
      "source": [
        "import pandas as pd\n",
        "import numpy as np\n",
        "\n",
        "path =\"/content/drive/MyDrive/AmEx Strategy Track/AmEx Strategy Track train data csv.csv\"\n",
        "\n",
        "data = pd.read_csv(path)"
      ]
    },
    {
      "cell_type": "markdown",
      "source": [
        "Press ```Ctrl + F9``` after adding path"
      ],
      "metadata": {
        "id": "26j7G8jOQf3a"
      }
    },
    {
      "cell_type": "markdown",
      "source": [
        "##DATA ANALYSIS"
      ],
      "metadata": {
        "id": "ypbKnQsmJBa5"
      }
    },
    {
      "cell_type": "markdown",
      "source": [
        "###Default Rate: ```(No.of defaulters in a specific month)/(Total No. of people in a specific month)```"
      ],
      "metadata": {
        "id": "5ilV_m7jJH0g"
      }
    },
    {
      "cell_type": "markdown",
      "source": [
        "We need to observe surge in default rate"
      ],
      "metadata": {
        "id": "6wURjMM8KG4t"
      }
    },
    {
      "cell_type": "code",
      "source": [
        "train_set = data\n",
        "\n",
        "#divided dataset into two parts based on default index:\n",
        "\n",
        "default_0 = train_set[train_set['default_ind'] == 0]\n",
        "default_1 = train_set[train_set['default_ind'] == 1]"
      ],
      "metadata": {
        "id": "3rJfWNDhI8c3"
      },
      "execution_count": null,
      "outputs": []
    },
    {
      "cell_type": "code",
      "source": [
        "train_set.info()"
      ],
      "metadata": {
        "colab": {
          "base_uri": "https://localhost:8080/"
        },
        "id": "h-EzlUqYMOvg",
        "outputId": "c23b5dfb-2d38-4eba-d24d-b213f9afe37e"
      },
      "execution_count": null,
      "outputs": [
        {
          "output_type": "stream",
          "name": "stdout",
          "text": [
            "<class 'pandas.core.frame.DataFrame'>\n",
            "RangeIndex: 62484 entries, 0 to 62483\n",
            "Data columns (total 61 columns):\n",
            " #   Column                 Non-Null Count  Dtype  \n",
            "---  ------                 --------------  -----  \n",
            " 0   unique_identifier      62484 non-null  int64  \n",
            " 1   appl_month             62484 non-null  object \n",
            " 2   prod_name              62484 non-null  object \n",
            " 3   acq_channel            62484 non-null  object \n",
            " 4   state_code             62484 non-null  object \n",
            " 5   bureau_src             62484 non-null  object \n",
            " 6   risk_score_1           62484 non-null  float64\n",
            " 7   bureau_score           62484 non-null  int64  \n",
            " 8   limit                  62484 non-null  int64  \n",
            " 9   income                 62484 non-null  int64  \n",
            " 10  old_open_trd_ms        62484 non-null  int64  \n",
            " 11  no_open_trd            62484 non-null  int64  \n",
            " 12  no_trd                 62484 non-null  int64  \n",
            " 13  debt_cap               62484 non-null  float64\n",
            " 14  basic_max_trd_tnr      62484 non-null  int64  \n",
            " 15  basic_no_trd           62484 non-null  int64  \n",
            " 16  risk_score_2           62484 non-null  float64\n",
            " 17  trust_identity         32380 non-null  object \n",
            " 18  risk_score_3           62484 non-null  int64  \n",
            " 19  no_inq                 62484 non-null  int64  \n",
            " 20  risk_score_4           62484 non-null  int64  \n",
            " 21  income_incons          62484 non-null  float64\n",
            " 22  bureau_mismatch        62484 non-null  int64  \n",
            " 23  risk_score_5           62484 non-null  int64  \n",
            " 24  risk_score_6           62484 non-null  int64  \n",
            " 25  addr_mismatch          47253 non-null  object \n",
            " 26  basic_old_open_trd_ms  62484 non-null  int64  \n",
            " 27  addr_ds                62484 non-null  int64  \n",
            " 28  dl_id                  62484 non-null  int64  \n",
            " 29  addr_changes           62484 non-null  int64  \n",
            " 30  no_phn_to_addr         62484 non-null  int64  \n",
            " 31  no_nid_to_addr         62484 non-null  int64  \n",
            " 32  no_uid_to_addr         62484 non-null  int64  \n",
            " 33  uid_addr_matches       62484 non-null  int64  \n",
            " 34  uid_nid_matches        62484 non-null  int64  \n",
            " 35  home_value             62484 non-null  int64  \n",
            " 36  no_addr_to_nid         62484 non-null  int64  \n",
            " 37  risk_score_7           62484 non-null  int64  \n",
            " 38  no_trd_del             62484 non-null  int64  \n",
            " 39  spend                  62484 non-null  float64\n",
            " 40  payments               62484 non-null  float64\n",
            " 41  return_payments        62484 non-null  int64  \n",
            " 42  attempt_txn            62484 non-null  int64  \n",
            " 43  decline_txn            62484 non-null  int64  \n",
            " 44  merchant1              62484 non-null  int64  \n",
            " 45  merchant1_amt          62484 non-null  float64\n",
            " 46  merchant1_ten          62484 non-null  int64  \n",
            " 47  merchant1_cat          62484 non-null  int64  \n",
            " 48  merchant2              62484 non-null  int64  \n",
            " 49  merchant2_amt          62484 non-null  float64\n",
            " 50  merchant2_ten          62484 non-null  int64  \n",
            " 51  merchant2_cat          62484 non-null  int64  \n",
            " 52  merchant3              62484 non-null  int64  \n",
            " 53  merchant3_amt          62484 non-null  float64\n",
            " 54  merchant3_ten          62484 non-null  int64  \n",
            " 55  merchant3_cat          62484 non-null  int64  \n",
            " 56  risk_score_8           62484 non-null  float64\n",
            " 57  risk_score_9           62484 non-null  float64\n",
            " 58  risk_score_10          62484 non-null  float64\n",
            " 59  risk_score_11          62484 non-null  float64\n",
            " 60  default_ind            62484 non-null  int64  \n",
            "dtypes: float64(13), int64(41), object(7)\n",
            "memory usage: 29.1+ MB\n"
          ]
        }
      ]
    },
    {
      "cell_type": "markdown",
      "source": [
        "```creating dataset for plotting default rate```"
      ],
      "metadata": {
        "id": "d2jNSqOKKTJm"
      }
    },
    {
      "cell_type": "code",
      "source": [
        "# Calculate the number of enteries for each month:\n",
        "\n",
        "entry_counts = train_set['appl_month'].value_counts()\n",
        "\n",
        "# Calculate the number of 1s for each month:\n",
        "ones_count = train_set[train_set['default_ind'] == 1]['appl_month'].value_counts()\n",
        "\n",
        "#creating a dataset to calculate default rate:\n",
        "ratio_df = pd.DataFrame({\n",
        "    'Month': entry_counts.index,\n",
        "    'Entries': entry_counts.values,\n",
        "    'Ones': ones_count.reindex(entry_counts.index, fill_value=0).values\n",
        "})  # Fill NaN values with 0 in case some months don't have 1s\n",
        "\n",
        "# Calculate the ratio of number of 1s to number of entries\n",
        "ratio_df['default_rate'] = ratio_df['Ones'] / ratio_df['Entries']\n",
        "\n",
        "month_order = ['Jan', 'Feb', 'Mar', 'Apr', 'May', 'Jun', 'Jul', 'Aug', 'Sep', 'Oct', 'Nov', 'Dec']\n",
        "\n",
        "# Convert the 'Month' column to a categorical type with the defined order\n",
        "ratio_df['Month'] = pd.Categorical(ratio_df['Month'], categories=month_order, ordered=True)\n",
        "\n",
        "# Sort the DataFrame by the 'Month' column\n",
        "ratio_df = ratio_df.sort_values('Month')"
      ],
      "metadata": {
        "id": "d0prj9WGJqtj"
      },
      "execution_count": null,
      "outputs": []
    },
    {
      "cell_type": "markdown",
      "source": [
        "```plotting```"
      ],
      "metadata": {
        "id": "1zpCDZZyKYZb"
      }
    },
    {
      "cell_type": "code",
      "source": [
        "feature_1 = ratio_df['Month']\n",
        "feature_2 = ratio_df['default_rate']\n",
        "\n",
        "import matplotlib.pyplot as plt\n",
        "\n",
        "\n",
        "\n",
        "# Create the plot\n",
        "plt.figure(figsize=(10, 6))\n",
        "plt.plot(feature_1, feature_2, marker='o', linestyle='-', color='b')\n",
        "\n",
        "# Add title and labels\n",
        "plt.title('Line Graph Between Two Features')\n",
        "plt.xlabel('Feature 1')\n",
        "plt.ylabel('Feature 2')\n",
        "\n",
        "# Show grid\n",
        "plt.grid(True)\n",
        "\n",
        "# Show the plot\n",
        "plt.show()\n"
      ],
      "metadata": {
        "id": "dRCJIUtHKZwG",
        "colab": {
          "base_uri": "https://localhost:8080/",
          "height": 564
        },
        "outputId": "cbbd1bee-10cd-4349-ac0a-266778740b5d"
      },
      "execution_count": null,
      "outputs": [
        {
          "output_type": "display_data",
          "data": {
            "text/plain": [
              "<Figure size 1000x600 with 1 Axes>"
            ],
            "image/png": "[encoded data removed]"
          },
          "metadata": {}
        }
      ]
    },
    {
      "cell_type": "markdown",
      "source": [
        "#### We observed that there is a significant surge in the months of Mar and Apr"
      ],
      "metadata": {
        "id": "4HKlEkGHKjaE"
      }
    },
    {
      "cell_type": "markdown",
      "source": [
        "```We will now compare feature trends of Mar-Apr with other months to devise a strategy to find fraudsters.```"
      ],
      "metadata": {
        "id": "vJNR6WlhKtEk"
      }
    },
    {
      "cell_type": "code",
      "source": [
        "# Creating datasets:\n",
        "\n",
        "defaulters_mar_apr_may = default_1[(default_1['appl_month'] == 'Mar') | (default_1['appl_month'] == 'Apr') | (default_1['appl_month'] == 'May') | (default_1['appl_month'] == 'Jun')]\n",
        "\n",
        "\n",
        "# defaulters_other = train_set[(train_set['appl_month'] != 'Mar') & (train_set['appl_month'] != 'Apr') & (train_set['appl_month'] != 'May')]\n",
        "defaulters_other = default_1[(default_1['appl_month'] != 'Mar') & (default_1['appl_month'] != 'Apr') & (default_1['appl_month'] != 'May') & (default_1['appl_month'] != 'Jun')]"
      ],
      "metadata": {
        "id": "9D0dydoiK7yA"
      },
      "execution_count": null,
      "outputs": []
    },
    {
      "cell_type": "markdown",
      "source": [
        "Creating a Correlation Matrix to find rankings of features on the basis of their dependancies"
      ],
      "metadata": {
        "id": "KnPVGOSqLn6d"
      }
    },
    {
      "cell_type": "code",
      "source": [
        "# We need to first drop non-integral features to create a corr_matrix (like appl_month , mercant ids etc)\n",
        "\n",
        "train_set_corr = train_set.drop(columns=['dl_id' ,'unique_identifier','appl_month', 'prod_name', 'acq_channel', 'state_code',\n",
        "                                            'bureau_src', 'trust_identity', 'addr_mismatch' , 'merchant1' , 'merchant2' , 'merchant3'])"
      ],
      "metadata": {
        "id": "gXqVCzj_LnRb"
      },
      "execution_count": null,
      "outputs": []
    },
    {
      "cell_type": "code",
      "source": [
        "corr_matrix = train_set_corr.corr()\n",
        "corr_matrix['default_ind'].sort_values(ascending = False)"
      ],
      "metadata": {
        "id": "EfdBdKAYM0Kr",
        "colab": {
          "base_uri": "https://localhost:8080/",
          "height": 1000
        },
        "outputId": "2eec6760-f8da-4c16-bb8f-ba8312d42902"
      },
      "execution_count": null,
      "outputs": [
        {
          "output_type": "execute_result",
          "data": {
            "text/plain": [
              "default_ind              1.000000\n",
              "return_payments          0.171647\n",
              "risk_score_2             0.084192\n",
              "risk_score_3             0.078721\n",
              "risk_score_7             0.066788\n",
              "merchant1_amt            0.054036\n",
              "merchant2_amt            0.047185\n",
              "decline_txn              0.043275\n",
              "spend                    0.042908\n",
              "uid_addr_matches         0.041220\n",
              "uid_nid_matches          0.040221\n",
              "risk_score_4             0.039496\n",
              "addr_changes             0.039328\n",
              "no_phn_to_addr           0.036711\n",
              "no_uid_to_addr           0.035998\n",
              "no_nid_to_addr           0.034831\n",
              "risk_score_1             0.029580\n",
              "merchant1_cat            0.027860\n",
              "no_addr_to_nid           0.027697\n",
              "merchant3_amt            0.026659\n",
              "bureau_score             0.024020\n",
              "risk_score_11            0.022007\n",
              "no_inq                   0.016827\n",
              "attempt_txn              0.014408\n",
              "risk_score_9             0.012059\n",
              "merchant2_cat            0.008705\n",
              "addr_ds                  0.007611\n",
              "bureau_mismatch          0.007128\n",
              "payments                 0.004454\n",
              "risk_score_8             0.000503\n",
              "risk_score_10           -0.000469\n",
              "debt_cap                -0.001392\n",
              "income_incons           -0.001396\n",
              "home_value              -0.001455\n",
              "merchant3_cat           -0.003994\n",
              "old_open_trd_ms         -0.005133\n",
              "basic_old_open_trd_ms   -0.009260\n",
              "income                  -0.014351\n",
              "merchant2_ten           -0.015060\n",
              "merchant3_ten           -0.018602\n",
              "no_open_trd             -0.020787\n",
              "no_trd                  -0.021938\n",
              "merchant1_ten           -0.022538\n",
              "no_trd_del              -0.023594\n",
              "limit                   -0.024594\n",
              "basic_max_trd_tnr       -0.027885\n",
              "basic_no_trd            -0.030949\n",
              "risk_score_6            -0.034330\n",
              "risk_score_5            -0.052744\n",
              "Name: default_ind, dtype: float64"
            ],
            "text/html": [
              "<div>\n",
              "<style scoped>\n",
              "    .dataframe tbody tr th:only-of-type {\n",
              "        vertical-align: middle;\n",
              "    }\n",
              "\n",
              "    .dataframe tbody tr th {\n",
              "        vertical-align: top;\n",
              "    }\n",
              "\n",
              "    .dataframe thead th {\n",
              "        text-align: right;\n",
              "    }\n",
              "</style>\n",
              "<table border=\"1\" class=\"dataframe\">\n",
              "  <thead>\n",
              "    <tr style=\"text-align: right;\">\n",
              "      <th></th>\n",
              "      <th>default_ind</th>\n",
              "    </tr>\n",
              "  </thead>\n",
              "  <tbody>\n",
              "    <tr>\n",
              "      <th>default_ind</th>\n",
              "      <td>1.000000</td>\n",
              "    </tr>\n",
              "    <tr>\n",
              "      <th>return_payments</th>\n",
              "      <td>0.171647</td>\n",
              "    </tr>\n",
              "    <tr>\n",
              "      <th>risk_score_2</th>\n",
              "      <td>0.084192</td>\n",
              "    </tr>\n",
              "    <tr>\n",
              "      <th>risk_score_3</th>\n",
              "      <td>0.078721</td>\n",
              "    </tr>\n",
              "    <tr>\n",
              "      <th>risk_score_7</th>\n",
              "      <td>0.066788</td>\n",
              "    </tr>\n",
              "    <tr>\n",
              "      <th>merchant1_amt</th>\n",
              "      <td>0.054036</td>\n",
              "    </tr>\n",
              "    <tr>\n",
              "      <th>merchant2_amt</th>\n",
              "      <td>0.047185</td>\n",
              "    </tr>\n",
              "    <tr>\n",
              "      <th>decline_txn</th>\n",
              "      <td>0.043275</td>\n",
              "    </tr>\n",
              "    <tr>\n",
              "      <th>spend</th>\n",
              "      <td>0.042908</td>\n",
              "    </tr>\n",
              "    <tr>\n",
              "      <th>uid_addr_matches</th>\n",
              "      <td>0.041220</td>\n",
              "    </tr>\n",
              "    <tr>\n",
              "      <th>uid_nid_matches</th>\n",
              "      <td>0.040221</td>\n",
              "    </tr>\n",
              "    <tr>\n",
              "      <th>risk_score_4</th>\n",
              "      <td>0.039496</td>\n",
              "    </tr>\n",
              "    <tr>\n",
              "      <th>addr_changes</th>\n",
              "      <td>0.039328</td>\n",
              "    </tr>\n",
              "    <tr>\n",
              "      <th>no_phn_to_addr</th>\n",
              "      <td>0.036711</td>\n",
              "    </tr>\n",
              "    <tr>\n",
              "      <th>no_uid_to_addr</th>\n",
              "      <td>0.035998</td>\n",
              "    </tr>\n",
              "    <tr>\n",
              "      <th>no_nid_to_addr</th>\n",
              "      <td>0.034831</td>\n",
              "    </tr>\n",
              "    <tr>\n",
              "      <th>risk_score_1</th>\n",
              "      <td>0.029580</td>\n",
              "    </tr>\n",
              "    <tr>\n",
              "      <th>merchant1_cat</th>\n",
              "      <td>0.027860</td>\n",
              "    </tr>\n",
              "    <tr>\n",
              "      <th>no_addr_to_nid</th>\n",
              "      <td>0.027697</td>\n",
              "    </tr>\n",
              "    <tr>\n",
              "      <th>merchant3_amt</th>\n",
              "      <td>0.026659</td>\n",
              "    </tr>\n",
              "    <tr>\n",
              "      <th>bureau_score</th>\n",
              "      <td>0.024020</td>\n",
              "    </tr>\n",
              "    <tr>\n",
              "      <th>risk_score_11</th>\n",
              "      <td>0.022007</td>\n",
              "    </tr>\n",
              "    <tr>\n",
              "      <th>no_inq</th>\n",
              "      <td>0.016827</td>\n",
              "    </tr>\n",
              "    <tr>\n",
              "      <th>attempt_txn</th>\n",
              "      <td>0.014408</td>\n",
              "    </tr>\n",
              "    <tr>\n",
              "      <th>risk_score_9</th>\n",
              "      <td>0.012059</td>\n",
              "    </tr>\n",
              "    <tr>\n",
              "      <th>merchant2_cat</th>\n",
              "      <td>0.008705</td>\n",
              "    </tr>\n",
              "    <tr>\n",
              "      <th>addr_ds</th>\n",
              "      <td>0.007611</td>\n",
              "    </tr>\n",
              "    <tr>\n",
              "      <th>bureau_mismatch</th>\n",
              "      <td>0.007128</td>\n",
              "    </tr>\n",
              "    <tr>\n",
              "      <th>payments</th>\n",
              "      <td>0.004454</td>\n",
              "    </tr>\n",
              "    <tr>\n",
              "      <th>risk_score_8</th>\n",
              "      <td>0.000503</td>\n",
              "    </tr>\n",
              "    <tr>\n",
              "      <th>risk_score_10</th>\n",
              "      <td>-0.000469</td>\n",
              "    </tr>\n",
              "    <tr>\n",
              "      <th>debt_cap</th>\n",
              "      <td>-0.001392</td>\n",
              "    </tr>\n",
              "    <tr>\n",
              "      <th>income_incons</th>\n",
              "      <td>-0.001396</td>\n",
              "    </tr>\n",
              "    <tr>\n",
              "      <th>home_value</th>\n",
              "      <td>-0.001455</td>\n",
              "    </tr>\n",
              "    <tr>\n",
              "      <th>merchant3_cat</th>\n",
              "      <td>-0.003994</td>\n",
              "    </tr>\n",
              "    <tr>\n",
              "      <th>old_open_trd_ms</th>\n",
              "      <td>-0.005133</td>\n",
              "    </tr>\n",
              "    <tr>\n",
              "      <th>basic_old_open_trd_ms</th>\n",
              "      <td>-0.009260</td>\n",
              "    </tr>\n",
              "    <tr>\n",
              "      <th>income</th>\n",
              "      <td>-0.014351</td>\n",
              "    </tr>\n",
              "    <tr>\n",
              "      <th>merchant2_ten</th>\n",
              "      <td>-0.015060</td>\n",
              "    </tr>\n",
              "    <tr>\n",
              "      <th>merchant3_ten</th>\n",
              "      <td>-0.018602</td>\n",
              "    </tr>\n",
              "    <tr>\n",
              "      <th>no_open_trd</th>\n",
              "      <td>-0.020787</td>\n",
              "    </tr>\n",
              "    <tr>\n",
              "      <th>no_trd</th>\n",
              "      <td>-0.021938</td>\n",
              "    </tr>\n",
              "    <tr>\n",
              "      <th>merchant1_ten</th>\n",
              "      <td>-0.022538</td>\n",
              "    </tr>\n",
              "    <tr>\n",
              "      <th>no_trd_del</th>\n",
              "      <td>-0.023594</td>\n",
              "    </tr>\n",
              "    <tr>\n",
              "      <th>limit</th>\n",
              "      <td>-0.024594</td>\n",
              "    </tr>\n",
              "    <tr>\n",
              "      <th>basic_max_trd_tnr</th>\n",
              "      <td>-0.027885</td>\n",
              "    </tr>\n",
              "    <tr>\n",
              "      <th>basic_no_trd</th>\n",
              "      <td>-0.030949</td>\n",
              "    </tr>\n",
              "    <tr>\n",
              "      <th>risk_score_6</th>\n",
              "      <td>-0.034330</td>\n",
              "    </tr>\n",
              "    <tr>\n",
              "      <th>risk_score_5</th>\n",
              "      <td>-0.052744</td>\n",
              "    </tr>\n",
              "  </tbody>\n",
              "</table>\n",
              "</div><br><label><b>dtype:</b> float64</label>"
            ]
          },
          "metadata": {},
          "execution_count": 8
        }
      ]
    },
    {
      "cell_type": "markdown",
      "source": [
        "Based on the correlational values , we will assign weights to the features later."
      ],
      "metadata": {
        "id": "PZcnUdJXNHxI"
      }
    },
    {
      "cell_type": "markdown",
      "source": [
        "```dropping irrelevant features to plot graphs for only important features```"
      ],
      "metadata": {
        "id": "m9MdiY3LNctw"
      }
    },
    {
      "cell_type": "code",
      "source": [
        "defaulters_mar_apr_may = defaulters_mar_apr_may.drop(columns=['dl_id' ,'unique_identifier','appl_month', 'prod_name', 'acq_channel', 'state_code',\n",
        "                                            'bureau_src', 'trust_identity', 'addr_mismatch' , 'merchant1' , 'merchant2' , 'merchant3'])\n",
        "\n",
        "defaulters_other = defaulters_other.drop(columns=['dl_id' ,'unique_identifier','appl_month', 'prod_name', 'acq_channel', 'state_code',\n",
        "                                            'bureau_src', 'trust_identity', 'addr_mismatch' , 'merchant1' , 'merchant2' , 'merchant3'])"
      ],
      "metadata": {
        "id": "j20t_JEUNOCq"
      },
      "execution_count": null,
      "outputs": []
    },
    {
      "cell_type": "markdown",
      "source": [
        "###plotting graphs"
      ],
      "metadata": {
        "id": "OLxfviReNlUb"
      }
    },
    {
      "cell_type": "code",
      "source": [
        "# import matplotlib.pyplot as plt\n",
        "\n",
        "# def plot_histogram(dfs, feature_name, dataset_names):\n",
        "#     plt.figure(figsize=(12, 8))\n",
        "\n",
        "#     colors = ['b', 'g', 'r']  # List of colors for different datasets\n",
        "#     alpha = 0.5  # Transparency level\n",
        "\n",
        "#     for df, color, name in zip(dfs, colors, dataset_names):\n",
        "#         plt.hist(df[feature_name], bins=30, edgecolor='k', color=color, alpha=alpha, label=name)\n",
        "\n",
        "#     plt.title(f'Histogram of {feature_name}')\n",
        "#     plt.xlabel('Value')\n",
        "#     plt.ylabel('Frequency')\n",
        "#     plt.legend()\n",
        "#     plt.show()"
      ],
      "metadata": {
        "id": "hf2cBArYNnos"
      },
      "execution_count": null,
      "outputs": []
    },
    {
      "cell_type": "code",
      "source": [
        "defaulters_mar_apr_may.info()"
      ],
      "metadata": {
        "colab": {
          "base_uri": "https://localhost:8080/"
        },
        "id": "xRKlXczHyYL7",
        "outputId": "0af21d5d-66e6-45d4-d67f-a9d4c59ae8d7"
      },
      "execution_count": null,
      "outputs": [
        {
          "output_type": "stream",
          "name": "stdout",
          "text": [
            "<class 'pandas.core.frame.DataFrame'>\n",
            "Index: 266 entries, 2 to 62364\n",
            "Data columns (total 49 columns):\n",
            " #   Column                 Non-Null Count  Dtype  \n",
            "---  ------                 --------------  -----  \n",
            " 0   risk_score_1           266 non-null    float64\n",
            " 1   bureau_score           266 non-null    int64  \n",
            " 2   limit                  266 non-null    int64  \n",
            " 3   income                 266 non-null    int64  \n",
            " 4   old_open_trd_ms        266 non-null    int64  \n",
            " 5   no_open_trd            266 non-null    int64  \n",
            " 6   no_trd                 266 non-null    int64  \n",
            " 7   debt_cap               266 non-null    float64\n",
            " 8   basic_max_trd_tnr      266 non-null    int64  \n",
            " 9   basic_no_trd           266 non-null    int64  \n",
            " 10  risk_score_2           266 non-null    float64\n",
            " 11  risk_score_3           266 non-null    int64  \n",
            " 12  no_inq                 266 non-null    int64  \n",
            " 13  risk_score_4           266 non-null    int64  \n",
            " 14  income_incons          266 non-null    float64\n",
            " 15  bureau_mismatch        266 non-null    int64  \n",
            " 16  risk_score_5           266 non-null    int64  \n",
            " 17  risk_score_6           266 non-null    int64  \n",
            " 18  basic_old_open_trd_ms  266 non-null    int64  \n",
            " 19  addr_ds                266 non-null    int64  \n",
            " 20  addr_changes           266 non-null    int64  \n",
            " 21  no_phn_to_addr         266 non-null    int64  \n",
            " 22  no_nid_to_addr         266 non-null    int64  \n",
            " 23  no_uid_to_addr         266 non-null    int64  \n",
            " 24  uid_addr_matches       266 non-null    int64  \n",
            " 25  uid_nid_matches        266 non-null    int64  \n",
            " 26  home_value             266 non-null    int64  \n",
            " 27  no_addr_to_nid         266 non-null    int64  \n",
            " 28  risk_score_7           266 non-null    int64  \n",
            " 29  no_trd_del             266 non-null    int64  \n",
            " 30  spend                  266 non-null    float64\n",
            " 31  payments               266 non-null    float64\n",
            " 32  return_payments        266 non-null    int64  \n",
            " 33  attempt_txn            266 non-null    int64  \n",
            " 34  decline_txn            266 non-null    int64  \n",
            " 35  merchant1_amt          266 non-null    float64\n",
            " 36  merchant1_ten          266 non-null    int64  \n",
            " 37  merchant1_cat          266 non-null    int64  \n",
            " 38  merchant2_amt          266 non-null    float64\n",
            " 39  merchant2_ten          266 non-null    int64  \n",
            " 40  merchant2_cat          266 non-null    int64  \n",
            " 41  merchant3_amt          266 non-null    float64\n",
            " 42  merchant3_ten          266 non-null    int64  \n",
            " 43  merchant3_cat          266 non-null    int64  \n",
            " 44  risk_score_8           266 non-null    float64\n",
            " 45  risk_score_9           266 non-null    float64\n",
            " 46  risk_score_10          266 non-null    float64\n",
            " 47  risk_score_11          266 non-null    float64\n",
            " 48  default_ind            266 non-null    int64  \n",
            "dtypes: float64(13), int64(36)\n",
            "memory usage: 103.9 KB\n"
          ]
        }
      ]
    },
    {
      "cell_type": "code",
      "source": [
        "# List of features to plot (excluding non-numerical columns)\n",
        "# numerical_features = [\n",
        "#     'risk_score_1', 'bureau_score', 'limit', 'income', 'old_open_trd_ms',\n",
        "#     'no_open_trd', 'no_trd', 'debt_cap', 'basic_max_trd_tnr', 'basic_no_trd',\n",
        "#     'risk_score_2', 'risk_score_3', 'no_inq', 'risk_score_4', 'income_incons',\n",
        "#     'bureau_mismatch', 'risk_score_5', 'risk_score_6', 'basic_old_open_trd_ms',\n",
        "#     'addr_ds', 'addr_changes', 'no_phn_to_addr', 'no_nid_to_addr',\n",
        "#     'no_uid_to_addr', 'uid_addr_matches', 'uid_nid_matches', 'home_value',\n",
        "#     'no_addr_to_nid', 'risk_score_7', 'no_trd_del', 'spend', 'payments',\n",
        "#     'return_payments', 'attempt_txn', 'decline_txn', 'merchant1_amt',\n",
        "#     'merchant1_ten', 'merchant1_cat', 'merchant2_amt',\n",
        "#     'merchant2_ten', 'merchant2_cat', 'merchant3_amt',\n",
        "#     'merchant3_ten', 'merchant3_cat', 'risk_score_8', 'risk_score_9',\n",
        "#     'risk_score_10', 'risk_score_11'\n",
        "# ]\n",
        "\n",
        "\n",
        "# numerical_features = [\n",
        "#     'risk_score_1','old_open_trd_ms',\n",
        "\n",
        "#      'risk_score_3', 'risk_score_5','basic_old_open_trd_ms',\n",
        "#      'risk_score_11'\n",
        "# ]\n",
        "\n",
        "numerical_features = [\n",
        "'risk_score_1', 'limit','old_open_trd_ms','risk_score_3',\n",
        "                       'basic_old_open_trd_ms', 'addr_ds', 'no_addr_to_nid', 'risk_score_7','risk_score_11'\n",
        "\n",
        "]"
      ],
      "metadata": {
        "id": "dVC7DlHyNvGb"
      },
      "execution_count": null,
      "outputs": []
    },
    {
      "cell_type": "code",
      "source": [
        "# dataset_names = ['defaulters_mar_apr_may', 'defaulters_other']\n",
        "# dataframes = [defaulters_mar_apr_may , defaulters_other]\n",
        "\n",
        "# # Iterate over the numerical features and plot histograms\n",
        "# for fea in numerical_features:\n",
        "#   plot_histogram(dataframes, fea, dataset_names)"
      ],
      "metadata": {
        "id": "5sBix4ZfxbaU"
      },
      "execution_count": null,
      "outputs": []
    },
    {
      "cell_type": "markdown",
      "source": [
        "On the Basis of the above graphs determine threshold values to identify fraudsters, and store in on some word file or txt file for future use."
      ],
      "metadata": {
        "id": "sS39-G90OKqj"
      }
    },
    {
      "cell_type": "code",
      "source": [
        "import pandas as pd\n",
        "import seaborn as sns\n",
        "import matplotlib.pyplot as plt\n",
        "\n",
        "# Feature name that you want to plot\n",
        "for feature in numerical_features:\n",
        "  feature_name = feature\n",
        "\n",
        "# Create a figure\n",
        "  plt.figure(figsize=(10, 6))\n",
        "\n",
        "# Plot density plot for the first dataset\n",
        "  sns.kdeplot(defaulters_mar_apr_may[feature_name], shade=True, color='blue', label='defaulters_mar_apr_may')\n",
        "\n",
        "# Plot density plot for the second dataset\n",
        "  sns.kdeplot(defaulters_other[feature_name], shade=True, color='red', label='defaulters_other')\n",
        "\n",
        "# Add labels and title\n",
        "  plt.xlabel('Feature Value')\n",
        "  plt.ylabel('Density')\n",
        "  plt.title(feature_name)\n",
        "\n",
        "# Add a legend\n",
        "  plt.legend()\n",
        "\n",
        "# Show the plot\n",
        "  plt.show()\n"
      ],
      "metadata": {
        "id": "TomJhc528xH9"
      },
      "execution_count": null,
      "outputs": []
    },
    {
      "cell_type": "markdown",
      "source": [
        "```decision tree```"
      ],
      "metadata": {
        "id": "KqYTlT7DFnax"
      }
    },
    {
      "cell_type": "code",
      "source": [],
      "metadata": {
        "id": "QcYmCZ5XdCMb"
      },
      "execution_count": null,
      "outputs": []
    },
    {
      "cell_type": "code",
      "source": [
        "training_class = train_set[['old_open_trd_ms' ,\n",
        "        'risk_score_3',\n",
        "        'basic_old_open_trd_ms' ,\n",
        "        'risk_score_11',\n",
        "        'no_addr_to_nid']]\n",
        "\n",
        "testing_class = train_set[['default_ind']]"
      ],
      "metadata": {
        "id": "989deao39KnP"
      },
      "execution_count": null,
      "outputs": []
    },
    {
      "cell_type": "code",
      "source": [
        "# Import necessary libraries\n",
        "import numpy as np\n",
        "import pandas as pd\n",
        "from sklearn.model_selection import train_test_split\n",
        "from sklearn.tree import DecisionTreeClassifier\n",
        "from sklearn.metrics import accuracy_score, classification_report\n",
        "\n",
        "# Initialize the decision tree classifier\n",
        "clf = DecisionTreeClassifier()\n",
        "\n",
        "# Train the model\n",
        "clf.fit(training_class, testing_class)\n",
        "\n",
        "# Make predictions\n",
        "# y_pred = clf.predict(X_test)\n",
        "\n",
        "# # Evaluate the model\n",
        "# accuracy = accuracy_score(y_test, y_pred)\n",
        "# print(\"Accuracy:\", accuracy)\n",
        "# print(\"Classification Report:\\n\", classification_report(y_test, y_pred))\n"
      ],
      "metadata": {
        "id": "LiKqpPZcF7CS",
        "colab": {
          "base_uri": "https://localhost:8080/",
          "height": 74
        },
        "outputId": "0fb06dfa-ea95-40ee-845f-1f75c8455c2b"
      },
      "execution_count": null,
      "outputs": [
        {
          "output_type": "execute_result",
          "data": {
            "text/plain": [
              "DecisionTreeClassifier()"
            ],
            "text/html": [
              "<style>#sk-container-id-1 {color: black;}#sk-container-id-1 pre{padding: 0;}#sk-container-id-1 div.sk-toggleable {background-color: white;}#sk-container-id-1 label.sk-toggleable__label {cursor: pointer;display: block;width: 100%;margin-bottom: 0;padding: 0.3em;box-sizing: border-box;text-align: center;}#sk-container-id-1 label.sk-toggleable__label-arrow:before {content: \"▸\";float: left;margin-right: 0.25em;color: #696969;}#sk-container-id-1 label.sk-toggleable__label-arrow:hover:before {color: black;}#sk-container-id-1 div.sk-estimator:hover label.sk-toggleable__label-arrow:before {color: black;}#sk-container-id-1 div.sk-toggleable__content {max-height: 0;max-width: 0;overflow: hidden;text-align: left;background-color: #f0f8ff;}#sk-container-id-1 div.sk-toggleable__content pre {margin: 0.2em;color: black;border-radius: 0.25em;background-color: #f0f8ff;}#sk-container-id-1 input.sk-toggleable__control:checked~div.sk-toggleable__content {max-height: 200px;max-width: 100%;overflow: auto;}#sk-container-id-1 input.sk-toggleable__control:checked~label.sk-toggleable__label-arrow:before {content: \"▾\";}#sk-container-id-1 div.sk-estimator input.sk-toggleable__control:checked~label.sk-toggleable__label {background-color: #d4ebff;}#sk-container-id-1 div.sk-label input.sk-toggleable__control:checked~label.sk-toggleable__label {background-color: #d4ebff;}#sk-container-id-1 input.sk-hidden--visually {border: 0;clip: rect(1px 1px 1px 1px);clip: rect(1px, 1px, 1px, 1px);height: 1px;margin: -1px;overflow: hidden;padding: 0;position: absolute;width: 1px;}#sk-container-id-1 div.sk-estimator {font-family: monospace;background-color: #f0f8ff;border: 1px dotted black;border-radius: 0.25em;box-sizing: border-box;margin-bottom: 0.5em;}#sk-container-id-1 div.sk-estimator:hover {background-color: #d4ebff;}#sk-container-id-1 div.sk-parallel-item::after {content: \"\";width: 100%;border-bottom: 1px solid gray;flex-grow: 1;}#sk-container-id-1 div.sk-label:hover label.sk-toggleable__label {background-color: #d4ebff;}#sk-container-id-1 div.sk-serial::before {content: \"\";position: absolute;border-left: 1px solid gray;box-sizing: border-box;top: 0;bottom: 0;left: 50%;z-index: 0;}#sk-container-id-1 div.sk-serial {display: flex;flex-direction: column;align-items: center;background-color: white;padding-right: 0.2em;padding-left: 0.2em;position: relative;}#sk-container-id-1 div.sk-item {position: relative;z-index: 1;}#sk-container-id-1 div.sk-parallel {display: flex;align-items: stretch;justify-content: center;background-color: white;position: relative;}#sk-container-id-1 div.sk-item::before, #sk-container-id-1 div.sk-parallel-item::before {content: \"\";position: absolute;border-left: 1px solid gray;box-sizing: border-box;top: 0;bottom: 0;left: 50%;z-index: -1;}#sk-container-id-1 div.sk-parallel-item {display: flex;flex-direction: column;z-index: 1;position: relative;background-color: white;}#sk-container-id-1 div.sk-parallel-item:first-child::after {align-self: flex-end;width: 50%;}#sk-container-id-1 div.sk-parallel-item:last-child::after {align-self: flex-start;width: 50%;}#sk-container-id-1 div.sk-parallel-item:only-child::after {width: 0;}#sk-container-id-1 div.sk-dashed-wrapped {border: 1px dashed gray;margin: 0 0.4em 0.5em 0.4em;box-sizing: border-box;padding-bottom: 0.4em;background-color: white;}#sk-container-id-1 div.sk-label label {font-family: monospace;font-weight: bold;display: inline-block;line-height: 1.2em;}#sk-container-id-1 div.sk-label-container {text-align: center;}#sk-container-id-1 div.sk-container {/* jupyter's `normalize.less` sets `[hidden] { display: none; }` but bootstrap.min.css set `[hidden] { display: none !important; }` so we also need the `!important` here to be able to override the default hidden behavior on the sphinx rendered scikit-learn.org. See: https://github.com/scikit-learn/scikit-learn/issues/21755 */display: inline-block !important;position: relative;}#sk-container-id-1 div.sk-text-repr-fallback {display: none;}</style><div id=\"sk-container-id-1\" class=\"sk-top-container\"><div class=\"sk-text-repr-fallback\"><pre>DecisionTreeClassifier()</pre><b>In a Jupyter environment, please rerun this cell to show the HTML representation or trust the notebook. <br />On GitHub, the HTML representation is unable to render, please try loading this page with nbviewer.org.</b></div><div class=\"sk-container\" hidden><div class=\"sk-item\"><div class=\"sk-estimator sk-toggleable\"><input class=\"sk-toggleable__control sk-hidden--visually\" id=\"sk-estimator-id-1\" type=\"checkbox\" checked><label for=\"sk-estimator-id-1\" class=\"sk-toggleable__label sk-toggleable__label-arrow\">DecisionTreeClassifier</label><div class=\"sk-toggleable__content\"><pre>DecisionTreeClassifier()</pre></div></div></div></div></div>"
            ]
          },
          "metadata": {},
          "execution_count": 45
        }
      ]
    },
    {
      "cell_type": "code",
      "source": [
        "from sklearn.tree import export_text\n",
        "\n",
        "# Assuming `clf` is your trained DecisionTreeClassifier\n",
        "tree_rules = export_text(clf, feature_names=[\n",
        "'old_open_trd_ms' ,\n",
        "        'risk_score_3',\n",
        "        'basic_old_open_trd_ms' ,\n",
        "        'risk_score_11',\n",
        "        'no_addr_to_nid'\n",
        "])\n",
        "print(tree_rules)\n"
      ],
      "metadata": {
        "id": "i-dKDLzaGMDq"
      },
      "execution_count": null,
      "outputs": []
    },
    {
      "cell_type": "code",
      "source": [
        "# import pandas as pd\n",
        "\n",
        "# def apply_strategy(data: pd.DataFrame) -> pd.DataFrame:\n",
        "#     # Define normalized weights and their conditions for the specified features\n",
        "#     weights = {\n",
        "#         'risk_score_1': (0.2045, lambda x: x < 1),  # Feature with its weight and condition\n",
        "#         'old_open_trd_ms': (0.0354, lambda x: x > 250),  # Feature with its weight and condition\n",
        "#         'risk_score_3': (0.5447, lambda x: x > 90),  # Feature with its weight and condition\n",
        "#         'basic_old_open_trd_ms': (0.0639, lambda x: x > 200),  # Feature with its weight and condition\n",
        "#         'risk_score_11': (0.1526, lambda x: x > 0.32)  # Feature with its weight and condition\n",
        "#     }\n",
        "\n",
        "#     def calculate_strategy_hit(row: pd.Series) -> int:\n",
        "#         val = 0\n",
        "#         for feature, (weight, condition) in weights.items():\n",
        "#             if feature in row and condition(row[feature]):\n",
        "#                 val += weight\n",
        "#         return 1 if val > 0.3 else 0\n",
        "\n",
        "#     # Apply the function to each row in the DataFrame\n",
        "#     data['strategy_hit'] = data.apply(calculate_strategy_hit, axis=1)\n",
        "\n",
        "#     return data\n"
      ],
      "metadata": {
        "id": "hTul5qIpGPx6"
      },
      "execution_count": null,
      "outputs": []
    },
    {
      "cell_type": "code",
      "source": [
        "# default_1 = apply_strategy(default_1)"
      ],
      "metadata": {
        "id": "b8N5ajg1Jw5d"
      },
      "execution_count": null,
      "outputs": []
    },
    {
      "cell_type": "code",
      "source": [
        "# default_1['strategy_hit'].value_counts()"
      ],
      "metadata": {
        "id": "3bSOlmIQJ0uP"
      },
      "execution_count": null,
      "outputs": []
    },
    {
      "cell_type": "code",
      "source": [
        "# train_set = data"
      ],
      "metadata": {
        "id": "eyMQsl_lVRrA"
      },
      "execution_count": null,
      "outputs": []
    },
    {
      "cell_type": "code",
      "source": [
        "# train_set.rename(columns={'pred_default_ind':'default_ind'}, inplace=True)"
      ],
      "metadata": {
        "id": "Em-4iKVhKq0c"
      },
      "execution_count": null,
      "outputs": []
    },
    {
      "cell_type": "code",
      "source": [
        "# import pandas as pd\n",
        "\n",
        "# def apply_strategy(data: pd.DataFrame) -> pd.DataFrame:\n",
        "#     # Define normalized weights and their conditions for the specified features\n",
        "#     weights = {\n",
        "#         'risk_score_1': (0.2045, lambda x: x < 1),  # Feature with its weight and condition\n",
        "#         'old_open_trd_ms': (0.0354, lambda x: x > 250),  # Feature with its weight and condition\n",
        "#         'risk_score_3': (0.5447, lambda x: x > 90),  # Feature with its weight and condition\n",
        "#         'basic_old_open_trd_ms': (0.0639, lambda x: x > 200),  # Feature with its weight and condition\n",
        "#         'risk_score_11': (0.1526, lambda x: x > 0.32)  # Feature with its weight and condition\n",
        "#     }\n",
        "\n",
        "#     def calculate_strategy_hit(row: pd.Series) -> int:\n",
        "#         if row['pred_default_ind'] == 0:\n",
        "#             return 0\n",
        "\n",
        "#         val = 0\n",
        "#         for feature, (weight, condition) in weights.items():\n",
        "#             if feature in row and condition(row[feature]):\n",
        "#                 val += weight\n",
        "#         return 1 if val > 0.3 else 0\n",
        "\n",
        "#     # Apply the function to each row in the DataFrame\n",
        "#     data['strategy_hit'] = data.apply(calculate_strategy_hit, axis=1)\n",
        "\n",
        "#     return data\n"
      ],
      "metadata": {
        "id": "6NWslsK1J2pz"
      },
      "execution_count": null,
      "outputs": []
    },
    {
      "cell_type": "code",
      "source": [
        "import pandas as pd\n",
        "\n",
        "def apply_strategy(data: pd.DataFrame) -> pd.DataFrame:\n",
        "    # Define normalized weights and their conditions for the specified features\n",
        "    weights = {\n",
        "        # 'risk_score_1': (0.1055, lambda x: x < 1),  # Feature with its weight and condition\n",
        "        'old_open_trd_ms': (0.0182, lambda x: x > 250),  # Feature with its weight and condition\n",
        "        'risk_score_3': (0.2797, lambda x: x > 90),  # Feature with its weight and condition\n",
        "        'basic_old_open_trd_ms': (0.0329, lambda x: x > 200),  # Feature with its weight and condition\n",
        "        'risk_score_11': (0.0782, lambda x: x > 0.32),  # Feature with its weight and condition\n",
        "        # 'addr_ds': (0.0270, lambda x: x > 4000),  # Feature with its weight and condition\n",
        "        'no_addr_to_nid': (0.0984, lambda x: x > 25),  # Feature with its weight and condition\n",
        "        # 'risk_score_7': (0.2370, lambda x: x > 475)  # Feature with its weight and condition\n",
        "    }\n",
        "\n",
        "    def calculate_strategy_hit(row: pd.Series) -> int:\n",
        "        if row.get('pred_default_ind', 1) == 0:\n",
        "            return 0\n",
        "\n",
        "        val = 0\n",
        "        for feature, (weight, condition) in weights.items():\n",
        "            if feature in row and condition(row[feature]):\n",
        "                val += weight\n",
        "        return 1 if val > 0.15 else 0\n",
        "\n",
        "    # Apply the function to each row in the DataFrame\n",
        "    data['strategy_hit'] = data.apply(calculate_strategy_hit, axis=1)\n",
        "\n",
        "    return data\n"
      ],
      "metadata": {
        "id": "9OOy3JwVUXFK"
      },
      "execution_count": null,
      "outputs": []
    },
    {
      "cell_type": "code",
      "source": [
        "# train_set = apply_strategy(train_set)"
      ],
      "metadata": {
        "id": "cwlizOr0KpRz"
      },
      "execution_count": null,
      "outputs": []
    },
    {
      "cell_type": "code",
      "source": [
        "# train_set['strategy_hit'].value_counts()"
      ],
      "metadata": {
        "id": "JggpKxM9K4fw",
        "colab": {
          "base_uri": "https://localhost:8080/",
          "height": 178
        },
        "outputId": "30d07fda-062c-4d6d-cc1d-8f9678344fca"
      },
      "execution_count": null,
      "outputs": [
        {
          "output_type": "execute_result",
          "data": {
            "text/plain": [
              "strategy_hit\n",
              "0    62431\n",
              "1       53\n",
              "Name: count, dtype: int64"
            ],
            "text/html": [
              "<div>\n",
              "<style scoped>\n",
              "    .dataframe tbody tr th:only-of-type {\n",
              "        vertical-align: middle;\n",
              "    }\n",
              "\n",
              "    .dataframe tbody tr th {\n",
              "        vertical-align: top;\n",
              "    }\n",
              "\n",
              "    .dataframe thead th {\n",
              "        text-align: right;\n",
              "    }\n",
              "</style>\n",
              "<table border=\"1\" class=\"dataframe\">\n",
              "  <thead>\n",
              "    <tr style=\"text-align: right;\">\n",
              "      <th></th>\n",
              "      <th>count</th>\n",
              "    </tr>\n",
              "    <tr>\n",
              "      <th>strategy_hit</th>\n",
              "      <th></th>\n",
              "    </tr>\n",
              "  </thead>\n",
              "  <tbody>\n",
              "    <tr>\n",
              "      <th>0</th>\n",
              "      <td>62431</td>\n",
              "    </tr>\n",
              "    <tr>\n",
              "      <th>1</th>\n",
              "      <td>53</td>\n",
              "    </tr>\n",
              "  </tbody>\n",
              "</table>\n",
              "</div><br><label><b>dtype:</b> int64</label>"
            ]
          },
          "metadata": {},
          "execution_count": 36
        }
      ]
    },
    {
      "cell_type": "code",
      "source": [
        "# sub1 = train_set[['unique_identifier','strategy_hit']]"
      ],
      "metadata": {
        "id": "Wu_qXhfYK6ik"
      },
      "execution_count": null,
      "outputs": []
    },
    {
      "cell_type": "code",
      "source": [
        "# sub1['no_of_vars'] = 5"
      ],
      "metadata": {
        "id": "HgwajNr6K-It",
        "colab": {
          "base_uri": "https://localhost:8080/"
        },
        "outputId": "2df92734-fd1a-4589-abf7-38fef942e269"
      },
      "execution_count": null,
      "outputs": [
        {
          "output_type": "stream",
          "name": "stderr",
          "text": [
            "<ipython-input-38-4dc2a43c9b6d>:1: SettingWithCopyWarning: \n",
            "A value is trying to be set on a copy of a slice from a DataFrame.\n",
            "Try using .loc[row_indexer,col_indexer] = value instead\n",
            "\n",
            "See the caveats in the documentation: https://pandas.pydata.org/pandas-docs/stable/user_guide/indexing.html#returning-a-view-versus-a-copy\n",
            "  sub1['no_of_vars'] = 5\n"
          ]
        }
      ]
    },
    {
      "cell_type": "code",
      "source": [
        "# sub1.head()"
      ],
      "metadata": {
        "id": "ZRyCkFoYLLTT",
        "colab": {
          "base_uri": "https://localhost:8080/",
          "height": 206
        },
        "outputId": "beec8723-f545-40e8-d8b4-b1ebbf63cda6"
      },
      "execution_count": null,
      "outputs": [
        {
          "output_type": "execute_result",
          "data": {
            "text/plain": [
              "   unique_identifier  strategy_hit  no_of_vars\n",
              "0             116356             0           5\n",
              "1             110872             0           5\n",
              "2             158686             0           5\n",
              "3             148772             0           5\n",
              "4             158473             0           5"
            ],
            "text/html": [
              "\n",
              "  <div id=\"df-6be7434b-33f5-47f6-8b4f-b71e7477588b\" class=\"colab-df-container\">\n",
              "    <div>\n",
              "<style scoped>\n",
              "    .dataframe tbody tr th:only-of-type {\n",
              "        vertical-align: middle;\n",
              "    }\n",
              "\n",
              "    .dataframe tbody tr th {\n",
              "        vertical-align: top;\n",
              "    }\n",
              "\n",
              "    .dataframe thead th {\n",
              "        text-align: right;\n",
              "    }\n",
              "</style>\n",
              "<table border=\"1\" class=\"dataframe\">\n",
              "  <thead>\n",
              "    <tr style=\"text-align: right;\">\n",
              "      <th></th>\n",
              "      <th>unique_identifier</th>\n",
              "      <th>strategy_hit</th>\n",
              "      <th>no_of_vars</th>\n",
              "    </tr>\n",
              "  </thead>\n",
              "  <tbody>\n",
              "    <tr>\n",
              "      <th>0</th>\n",
              "      <td>116356</td>\n",
              "      <td>0</td>\n",
              "      <td>5</td>\n",
              "    </tr>\n",
              "    <tr>\n",
              "      <th>1</th>\n",
              "      <td>110872</td>\n",
              "      <td>0</td>\n",
              "      <td>5</td>\n",
              "    </tr>\n",
              "    <tr>\n",
              "      <th>2</th>\n",
              "      <td>158686</td>\n",
              "      <td>0</td>\n",
              "      <td>5</td>\n",
              "    </tr>\n",
              "    <tr>\n",
              "      <th>3</th>\n",
              "      <td>148772</td>\n",
              "      <td>0</td>\n",
              "      <td>5</td>\n",
              "    </tr>\n",
              "    <tr>\n",
              "      <th>4</th>\n",
              "      <td>158473</td>\n",
              "      <td>0</td>\n",
              "      <td>5</td>\n",
              "    </tr>\n",
              "  </tbody>\n",
              "</table>\n",
              "</div>\n",
              "    <div class=\"colab-df-buttons\">\n",
              "\n",
              "  <div class=\"colab-df-container\">\n",
              "    <button class=\"colab-df-convert\" onclick=\"convertToInteractive('df-6be7434b-33f5-47f6-8b4f-b71e7477588b')\"\n",
              "            title=\"Convert this dataframe to an interactive table.\"\n",
              "            style=\"display:none;\">\n",
              "\n",
              "  <svg xmlns=\"http://www.w3.org/2000/svg\" height=\"24px\" viewBox=\"0 -960 960 960\">\n",
              "    <path d=\"M120-120v-720h720v720H120Zm60-500h600v-160H180v160Zm220 220h160v-160H400v160Zm0 220h160v-160H400v160ZM180-400h160v-160H180v160Zm440 0h160v-160H620v160ZM180-180h160v-160H180v160Zm440 0h160v-160H620v160Z\"/>\n",
              "  </svg>\n",
              "    </button>\n",
              "\n",
              "  <style>\n",
              "    .colab-df-container {\n",
              "      display:flex;\n",
              "      gap: 12px;\n",
              "    }\n",
              "\n",
              "    .colab-df-convert {\n",
              "      background-color: #E8F0FE;\n",
              "      border: none;\n",
              "      border-radius: 50%;\n",
              "      cursor: pointer;\n",
              "      display: none;\n",
              "      fill: #1967D2;\n",
              "      height: 32px;\n",
              "      padding: 0 0 0 0;\n",
              "      width: 32px;\n",
              "    }\n",
              "\n",
              "    .colab-df-convert:hover {\n",
              "      background-color: #E2EBFA;\n",
              "      box-shadow: 0px 1px 2px rgba(60, 64, 67, 0.3), 0px 1px 3px 1px rgba(60, 64, 67, 0.15);\n",
              "      fill: #174EA6;\n",
              "    }\n",
              "\n",
              "    .colab-df-buttons div {\n",
              "      margin-bottom: 4px;\n",
              "    }\n",
              "\n",
              "    [theme=dark] .colab-df-convert {\n",
              "      background-color: #3B4455;\n",
              "      fill: #D2E3FC;\n",
              "    }\n",
              "\n",
              "    [theme=dark] .colab-df-convert:hover {\n",
              "      background-color: #434B5C;\n",
              "      box-shadow: 0px 1px 3px 1px rgba(0, 0, 0, 0.15);\n",
              "      filter: drop-shadow(0px 1px 2px rgba(0, 0, 0, 0.3));\n",
              "      fill: #FFFFFF;\n",
              "    }\n",
              "  </style>\n",
              "\n",
              "    <script>\n",
              "      const buttonEl =\n",
              "        document.querySelector('#df-6be7434b-33f5-47f6-8b4f-b71e7477588b button.colab-df-convert');\n",
              "      buttonEl.style.display =\n",
              "        google.colab.kernel.accessAllowed ? 'block' : 'none';\n",
              "\n",
              "      async function convertToInteractive(key) {\n",
              "        const element = document.querySelector('#df-6be7434b-33f5-47f6-8b4f-b71e7477588b');\n",
              "        const dataTable =\n",
              "          await google.colab.kernel.invokeFunction('convertToInteractive',\n",
              "                                                    [key], {});\n",
              "        if (!dataTable) return;\n",
              "\n",
              "        const docLinkHtml = 'Like what you see? Visit the ' +\n",
              "          '<a target=\"_blank\" href=https://colab.research.google.com/notebooks/data_table.ipynb>data table notebook</a>'\n",
              "          + ' to learn more about interactive tables.';\n",
              "        element.innerHTML = '';\n",
              "        dataTable['output_type'] = 'display_data';\n",
              "        await google.colab.output.renderOutput(dataTable, element);\n",
              "        const docLink = document.createElement('div');\n",
              "        docLink.innerHTML = docLinkHtml;\n",
              "        element.appendChild(docLink);\n",
              "      }\n",
              "    </script>\n",
              "  </div>\n",
              "\n",
              "\n",
              "<div id=\"df-1570f923-e185-488e-9817-bc5071e0964f\">\n",
              "  <button class=\"colab-df-quickchart\" onclick=\"quickchart('df-1570f923-e185-488e-9817-bc5071e0964f')\"\n",
              "            title=\"Suggest charts\"\n",
              "            style=\"display:none;\">\n",
              "\n",
              "<svg xmlns=\"http://www.w3.org/2000/svg\" height=\"24px\"viewBox=\"0 0 24 24\"\n",
              "     width=\"24px\">\n",
              "    <g>\n",
              "        <path d=\"M19 3H5c-1.1 0-2 .9-2 2v14c0 1.1.9 2 2 2h14c1.1 0 2-.9 2-2V5c0-1.1-.9-2-2-2zM9 17H7v-7h2v7zm4 0h-2V7h2v10zm4 0h-2v-4h2v4z\"/>\n",
              "    </g>\n",
              "</svg>\n",
              "  </button>\n",
              "\n",
              "<style>\n",
              "  .colab-df-quickchart {\n",
              "      --bg-color: #E8F0FE;\n",
              "      --fill-color: #1967D2;\n",
              "      --hover-bg-color: #E2EBFA;\n",
              "      --hover-fill-color: #174EA6;\n",
              "      --disabled-fill-color: #AAA;\n",
              "      --disabled-bg-color: #DDD;\n",
              "  }\n",
              "\n",
              "  [theme=dark] .colab-df-quickchart {\n",
              "      --bg-color: #3B4455;\n",
              "      --fill-color: #D2E3FC;\n",
              "      --hover-bg-color: #434B5C;\n",
              "      --hover-fill-color: #FFFFFF;\n",
              "      --disabled-bg-color: #3B4455;\n",
              "      --disabled-fill-color: #666;\n",
              "  }\n",
              "\n",
              "  .colab-df-quickchart {\n",
              "    background-color: var(--bg-color);\n",
              "    border: none;\n",
              "    border-radius: 50%;\n",
              "    cursor: pointer;\n",
              "    display: none;\n",
              "    fill: var(--fill-color);\n",
              "    height: 32px;\n",
              "    padding: 0;\n",
              "    width: 32px;\n",
              "  }\n",
              "\n",
              "  .colab-df-quickchart:hover {\n",
              "    background-color: var(--hover-bg-color);\n",
              "    box-shadow: 0 1px 2px rgba(60, 64, 67, 0.3), 0 1px 3px 1px rgba(60, 64, 67, 0.15);\n",
              "    fill: var(--button-hover-fill-color);\n",
              "  }\n",
              "\n",
              "  .colab-df-quickchart-complete:disabled,\n",
              "  .colab-df-quickchart-complete:disabled:hover {\n",
              "    background-color: var(--disabled-bg-color);\n",
              "    fill: var(--disabled-fill-color);\n",
              "    box-shadow: none;\n",
              "  }\n",
              "\n",
              "  .colab-df-spinner {\n",
              "    border: 2px solid var(--fill-color);\n",
              "    border-color: transparent;\n",
              "    border-bottom-color: var(--fill-color);\n",
              "    animation:\n",
              "      spin 1s steps(1) infinite;\n",
              "  }\n",
              "\n",
              "  @keyframes spin {\n",
              "    0% {\n",
              "      border-color: transparent;\n",
              "      border-bottom-color: var(--fill-color);\n",
              "      border-left-color: var(--fill-color);\n",
              "    }\n",
              "    20% {\n",
              "      border-color: transparent;\n",
              "      border-left-color: var(--fill-color);\n",
              "      border-top-color: var(--fill-color);\n",
              "    }\n",
              "    30% {\n",
              "      border-color: transparent;\n",
              "      border-left-color: var(--fill-color);\n",
              "      border-top-color: var(--fill-color);\n",
              "      border-right-color: var(--fill-color);\n",
              "    }\n",
              "    40% {\n",
              "      border-color: transparent;\n",
              "      border-right-color: var(--fill-color);\n",
              "      border-top-color: var(--fill-color);\n",
              "    }\n",
              "    60% {\n",
              "      border-color: transparent;\n",
              "      border-right-color: var(--fill-color);\n",
              "    }\n",
              "    80% {\n",
              "      border-color: transparent;\n",
              "      border-right-color: var(--fill-color);\n",
              "      border-bottom-color: var(--fill-color);\n",
              "    }\n",
              "    90% {\n",
              "      border-color: transparent;\n",
              "      border-bottom-color: var(--fill-color);\n",
              "    }\n",
              "  }\n",
              "</style>\n",
              "\n",
              "  <script>\n",
              "    async function quickchart(key) {\n",
              "      const quickchartButtonEl =\n",
              "        document.querySelector('#' + key + ' button');\n",
              "      quickchartButtonEl.disabled = true;  // To prevent multiple clicks.\n",
              "      quickchartButtonEl.classList.add('colab-df-spinner');\n",
              "      try {\n",
              "        const charts = await google.colab.kernel.invokeFunction(\n",
              "            'suggestCharts', [key], {});\n",
              "      } catch (error) {\n",
              "        console.error('Error during call to suggestCharts:', error);\n",
              "      }\n",
              "      quickchartButtonEl.classList.remove('colab-df-spinner');\n",
              "      quickchartButtonEl.classList.add('colab-df-quickchart-complete');\n",
              "    }\n",
              "    (() => {\n",
              "      let quickchartButtonEl =\n",
              "        document.querySelector('#df-1570f923-e185-488e-9817-bc5071e0964f button');\n",
              "      quickchartButtonEl.style.display =\n",
              "        google.colab.kernel.accessAllowed ? 'block' : 'none';\n",
              "    })();\n",
              "  </script>\n",
              "</div>\n",
              "\n",
              "    </div>\n",
              "  </div>\n"
            ],
            "application/vnd.google.colaboratory.intrinsic+json": {
              "type": "dataframe",
              "variable_name": "sub1",
              "summary": "{\n  \"name\": \"sub1\",\n  \"rows\": 62484,\n  \"fields\": [\n    {\n      \"column\": \"unique_identifier\",\n      \"properties\": {\n        \"dtype\": \"number\",\n        \"std\": 18037,\n        \"min\": 100001,\n        \"max\": 162484,\n        \"num_unique_values\": 62484,\n        \"samples\": [\n          116907,\n          143989,\n          136030\n        ],\n        \"semantic_type\": \"\",\n        \"description\": \"\"\n      }\n    },\n    {\n      \"column\": \"strategy_hit\",\n      \"properties\": {\n        \"dtype\": \"number\",\n        \"std\": 0,\n        \"min\": 0,\n        \"max\": 1,\n        \"num_unique_values\": 2,\n        \"samples\": [\n          1,\n          0\n        ],\n        \"semantic_type\": \"\",\n        \"description\": \"\"\n      }\n    },\n    {\n      \"column\": \"no_of_vars\",\n      \"properties\": {\n        \"dtype\": \"number\",\n        \"std\": 0,\n        \"min\": 5,\n        \"max\": 5,\n        \"num_unique_values\": 1,\n        \"samples\": [\n          5\n        ],\n        \"semantic_type\": \"\",\n        \"description\": \"\"\n      }\n    }\n  ]\n}"
            }
          },
          "metadata": {},
          "execution_count": 39
        }
      ]
    },
    {
      "cell_type": "code",
      "source": [
        "# sub1.to_csv('r3_submission_aditya.jha.csv',index=False)"
      ],
      "metadata": {
        "id": "aG_wNy9nLNrr"
      },
      "execution_count": null,
      "outputs": []
    },
    {
      "cell_type": "code",
      "source": [],
      "metadata": {
        "id": "b_Zfp69bNg8S"
      },
      "execution_count": null,
      "outputs": []
    },
    {
      "cell_type": "code",
      "source": [],
      "metadata": {
        "id": "hFuz1lcqLXXY"
      },
      "execution_count": null,
      "outputs": []
    }
  ]
}